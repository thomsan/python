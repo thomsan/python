{
 "cells": [
  {
   "cell_type": "markdown",
   "metadata": {},
   "source": [
    "# zip()"
   ]
  },
  {
   "cell_type": "code",
   "execution_count": 53,
   "metadata": {},
   "outputs": [
    {
     "name": "stdout",
     "output_type": "stream",
     "text": [
      "*zip(numbersList, numbers_tuple):\n",
      " (1, 'ONE') (2, 'TWO') (3, 'THREE')\n",
      "equivalent\n",
      "*tuple(zip(numbersList, numbers_tuple)):\n",
      " (1, 'ONE') (2, 'TWO') (3, 'THREE')\n",
      "\n",
      "as list:\n",
      " [(1, 'ONE'), (2, 'TWO'), (3, 'THREE')]\n",
      "\n",
      "3 lists:\n",
      "*zip(numbersList, str_list, numbers_tuple):\n",
      " (1, 'one', 'ONE') (2, 'two', 'TWO')\n"
     ]
    }
   ],
   "source": [
    "numbersList = [1, 2, 3]\n",
    "str_list = ['one', 'two']\n",
    "numbers_tuple = ('ONE', 'TWO', 'THREE', 'FOUR')\n",
    "\n",
    "# Notice, the size of numbersList and numbers_tuple is different\n",
    "result = zip(numbersList, numbers_tuple)\n",
    "\n",
    "# unpacking with asterisk\n",
    "print(\"*zip(numbersList, numbers_tuple):\\n\", \\\n",
    "      *zip(numbersList, numbers_tuple))\n",
    "print(\"equivalent\\n*tuple(zip(numbersList, numbers_tuple)):\\n\", \\\n",
    "      *tuple(zip(numbersList, numbers_tuple)))\n",
    "# as list\n",
    "print(\"\\nas list:\\n\", list(result))\n",
    "\n",
    "# three lists\n",
    "print(\"\\n3 lists:\\n*zip(numbersList, str_list, numbers_tuple):\\n\", \\\n",
    "      *zip(numbersList, str_list, numbers_tuple))"
   ]
  }
 ],
 "metadata": {
  "kernelspec": {
   "display_name": "Python 3.6.9 64-bit",
   "language": "python",
   "name": "python36964bit5aa7587d47384f4b827aa938f644d6b6"
  },
  "language_info": {
   "codemirror_mode": {
    "name": "ipython",
    "version": 3
   },
   "file_extension": ".py",
   "mimetype": "text/x-python",
   "name": "python",
   "nbconvert_exporter": "python",
   "pygments_lexer": "ipython3",
   "version": "3.6.9"
  }
 },
 "nbformat": 4,
 "nbformat_minor": 2
}
