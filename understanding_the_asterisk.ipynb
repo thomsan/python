{
 "cells": [
  {
   "cell_type": "markdown",
   "metadata": {},
   "source": [
    "# Understanding the asterisk (*) ([reference](https://medium.com/understand-the-python/understanding-the-asterisk-of-python-8b9daaa4a558))"
   ]
  },
  {
   "cell_type": "markdown",
   "metadata": {},
   "source": [
    "## 1. Multiplication & power"
   ]
  },
  {
   "cell_type": "code",
   "execution_count": 1,
   "metadata": {},
   "outputs": [
    {
     "name": "stdout",
     "output_type": "stream",
     "text": [
      "2 * 3 = 6\n",
      "2 ** 3 = 8\n"
     ]
    }
   ],
   "source": [
    "print(f\"2 * 3 = {2 * 3}\")\n",
    "print(f\"2 ** 3 = {2 ** 3}\")"
   ]
  },
  {
   "cell_type": "markdown",
   "metadata": {},
   "source": [
    "## 2. Repeatedly extending list-type containers"
   ]
  },
  {
   "cell_type": "code",
   "execution_count": 2,
   "metadata": {},
   "outputs": [
    {
     "name": "stdout",
     "output_type": "stream",
     "text": [
      "list:\n",
      "[0, 0, 0, 0, 0, 0, 0, 0, 0, 0]\n",
      "\n",
      "tuple:\n",
      "(1, 1, 1, 1, 1, 1, 1, 1, 1, 1)\n",
      "\n",
      "vector list:\n",
      "[[1, 2, 3], [1, 2, 3], [1, 2, 3]]\n",
      "\n",
      "Does not work with numpy array:\n",
      "[[3 6 9]]\n"
     ]
    }
   ],
   "source": [
    "zeros_list = [0] * 10\n",
    "print(f\"list:\\n{zeros_list}\")\n",
    "\n",
    "ones_tuple = (1,) * 10\n",
    "print(f\"\\ntuple:\\n{ones_tuple}\")\n",
    "\n",
    "vector_list = [[1, 2, 3]] * 3\n",
    "print(f\"\\nvector list:\\n{vector_list}\")\n",
    "\n",
    "import numpy as np\n",
    "np_array = np.array([[1, 2, 3]]) * 3\n",
    "print(f\"\\nDoes not work with numpy array:\\n{np_array}\")"
   ]
  },
  {
   "cell_type": "markdown",
   "metadata": {},
   "source": [
    "## 3. Variadic arguments (* & **)"
   ]
  },
  {
   "cell_type": "markdown",
   "metadata": {},
   "source": [
    "### Positional arguments (*args)\n",
    "packing into **tuple**"
   ]
  },
  {
   "cell_type": "code",
   "execution_count": 3,
   "metadata": {},
   "outputs": [
    {
     "name": "stdout",
     "output_type": "stream",
     "text": [
      "('ming', 'alice', 'tom', 'wilson', 'roy')\n"
     ]
    }
   ],
   "source": [
    "def save_ranking(*args):\n",
    "    print(args) \n",
    "    \n",
    "save_ranking('ming', 'alice', 'tom', 'wilson', 'roy')"
   ]
  },
  {
   "cell_type": "markdown",
   "metadata": {},
   "source": [
    "### Keyword arguments (**kwargs)\n",
    "packing into **dict**"
   ]
  },
  {
   "cell_type": "code",
   "execution_count": 4,
   "metadata": {},
   "outputs": [
    {
     "name": "stdout",
     "output_type": "stream",
     "text": [
      "{'first': 'ming', 'second': 'alice', 'fourth': 'wilson', 'third': 'tom', 'fifth': 'roy'}\n"
     ]
    }
   ],
   "source": [
    "def save_ranking(**kwargs):\n",
    "    print(kwargs)\n",
    "    \n",
    "save_ranking(first='ming', second='alice', fourth='wilson', \\\n",
    "             third='tom', fifth='roy')\n"
   ]
  },
  {
   "cell_type": "markdown",
   "metadata": {},
   "source": [
    "### Mixing positional and keyword arguments (*args, **kwargs)"
   ]
  },
  {
   "cell_type": "code",
   "execution_count": 5,
   "metadata": {},
   "outputs": [
    {
     "name": "stdout",
     "output_type": "stream",
     "text": [
      "('ming', 'alice', 'tom')\n",
      "{'fourth': 'wilson', 'fifth': 'roy'}\n"
     ]
    }
   ],
   "source": [
    "def save_ranking(*args, **kwargs):\n",
    "    print(args)     \n",
    "    print(kwargs)\n",
    "    \n",
    "save_ranking('ming', 'alice', 'tom', fourth='wilson', fifth='roy')"
   ]
  },
  {
   "cell_type": "markdown",
   "metadata": {},
   "source": [
    "## Unpacking containers (tuple, list, dict)"
   ]
  },
  {
   "cell_type": "markdown",
   "metadata": {},
   "source": [
    "### Into functions"
   ]
  },
  {
   "cell_type": "code",
   "execution_count": 6,
   "metadata": {},
   "outputs": [
    {
     "name": "stdout",
     "output_type": "stream",
     "text": [
      "\n",
      "primes:\n",
      "[2, 3, 5, 7, 11, 13]\n",
      "\n",
      "*primes:\n",
      "2 3 5 7 11 13\n",
      "\n",
      "product(*primes):\n",
      "30030\n",
      "\n",
      "product(primes):\n",
      "[2, 3, 5, 7, 11, 13]\n",
      "\n",
      "product(1,2,3):\n",
      "6\n"
     ]
    }
   ],
   "source": [
    "from functools import reduce\n",
    "\n",
    "primes = [2, 3, 5, 7, 11, 13]\n",
    "print(f\"\\nprimes:\\n{primes}\")\n",
    "print(\"\\n*primes:\")\n",
    "print(*primes)\n",
    "\n",
    "def product(*numbers):\n",
    "    p = reduce(lambda x, y: x * y, numbers)\n",
    "    return p \n",
    "\n",
    "print(f\"\\nproduct(*primes):\\n{product(*primes)}\")\n",
    "\n",
    "print(f\"\\nproduct(primes):\\n{product(primes)}\")\n",
    "\n",
    "print(f\"\\nproduct(1,2,3):\\n{product(1,2,3)}\")"
   ]
  },
  {
   "cell_type": "markdown",
   "metadata": {},
   "source": [
    "### Into other variables"
   ]
  },
  {
   "cell_type": "code",
   "execution_count": 7,
   "metadata": {},
   "outputs": [
    {
     "name": "stdout",
     "output_type": "stream",
     "text": [
      "*a, = numbers:\n",
      " [1, 2, 3, 4, 5, 6]\n",
      "\n",
      "*a, b = numbers:\n",
      " [1, 2, 3, 4, 5] 6\n",
      "\n",
      "a, *b, = numbers:\n",
      " 1 [2, 3, 4, 5, 6]\n",
      "\n",
      "a, *b, c = numbers:\n",
      " 1 [2, 3, 4, 5] 6\n"
     ]
    }
   ],
   "source": [
    "numbers = [1, 2, 3, 4, 5, 6]\n",
    "\n",
    "*a, = numbers\n",
    "print(\"*a, = numbers:\\n\",a)\n",
    "\n",
    "*a, b = numbers\n",
    "print(\"\\n*a, b = numbers:\\n\",a , b)\n",
    "\n",
    "a, *b, = numbers\n",
    "print(\"\\na, *b, = numbers:\\n\",a , b)\n",
    "\n",
    "a, *b, c = numbers\n",
    "print(\"\\na, *b, c = numbers:\\n\",a , b, c)"
   ]
  },
  {
   "cell_type": "markdown",
   "metadata": {},
   "source": [
    "### List literals"
   ]
  },
  {
   "cell_type": "code",
   "execution_count": 8,
   "metadata": {},
   "outputs": [
    {
     "name": "stdout",
     "output_type": "stream",
     "text": [
      "[1, 2, 3, 0]\n"
     ]
    }
   ],
   "source": [
    "def rotate_first_item(sequence):\n",
    "    return [*sequence[1:], sequence[0]]\n",
    "\n",
    "print(rotate_first_item([0,1,2,3]))"
   ]
  },
  {
   "cell_type": "markdown",
   "metadata": {},
   "source": [
    "### Dictionary literals"
   ]
  },
  {
   "cell_type": "code",
   "execution_count": 9,
   "metadata": {},
   "outputs": [
    {
     "name": "stdout",
     "output_type": "stream",
     "text": [
      "{'year': '2020', 'month': '01', 'day': '01', 'artist': 'Beethoven', 'title': 'Symphony No 5'}\n"
     ]
    }
   ],
   "source": [
    "date_info = {'year': \"2020\", 'month': \"01\", 'day': \"01\"}\n",
    "track_info = {'artist': \"Beethoven\", 'title': 'Symphony No 5'}\n",
    "all_info = {**date_info, **track_info}\n",
    "print(all_info)"
   ]
  }
 ],
 "metadata": {
  "kernelspec": {
   "display_name": "Python 3.6.9 64-bit",
   "language": "python",
   "name": "python36964bit5aa7587d47384f4b827aa938f644d6b6"
  },
  "language_info": {
   "codemirror_mode": {
    "name": "ipython",
    "version": 3
   },
   "file_extension": ".py",
   "mimetype": "text/x-python",
   "name": "python",
   "nbconvert_exporter": "python",
   "pygments_lexer": "ipython3",
   "version": "3.6.9"
  }
 },
 "nbformat": 4,
 "nbformat_minor": 2
}
