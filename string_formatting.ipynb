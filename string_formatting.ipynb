{
 "cells": [
  {
   "cell_type": "markdown",
   "metadata": {},
   "source": [
    "# String fromatting - f-Strings ([reference](https://realpython.com/python-f-strings/))"
   ]
  },
  {
   "cell_type": "code",
   "execution_count": 1,
   "metadata": {},
   "outputs": [],
   "source": [
    "first_name = \"Eric\"\n",
    "last_name = \"Idle\"\n",
    "age = 74\n",
    "profession = \"comedian\"\n",
    "affiliation = \"Monty Python\""
   ]
  },
  {
   "cell_type": "markdown",
   "metadata": {},
   "source": [
    "## 1. Old-school string formatting: %-formatting\n",
    "sucks"
   ]
  },
  {
   "cell_type": "code",
   "execution_count": 2,
   "metadata": {},
   "outputs": [
    {
     "data": {
      "text/plain": [
       "'Hello, Eric Idle. You are 74. You are a comedian. You were a member of Monty Python.'"
      ]
     },
     "execution_count": 2,
     "metadata": {},
     "output_type": "execute_result"
    }
   ],
   "source": [
    "\"Hello, %s %s. \\\n",
    "You are %s. \\\n",
    "You are a %s. \\\n",
    "You were a member of %s.\" \\\n",
    "% (first_name, last_name, age, profession, affiliation)\n"
   ]
  },
  {
   "cell_type": "markdown",
   "metadata": {},
   "source": [
    "## 2. str.format()\n",
    "better, but still not nice to read"
   ]
  },
  {
   "cell_type": "code",
   "execution_count": 3,
   "metadata": {},
   "outputs": [
    {
     "data": {
      "text/plain": [
       "'Hello, Eric Idle. You are 74. You are a comedian. You were a member of Monty Python.'"
      ]
     },
     "execution_count": 3,
     "metadata": {},
     "output_type": "execute_result"
    }
   ],
   "source": [
    "\"Hello, {} {}. \\\n",
    "You are {}. \\\n",
    "You are a {}. \\\n",
    "You were a member of {}.\" \\\n",
    ".format(first_name, last_name, age, profession, affiliation)"
   ]
  },
  {
   "cell_type": "markdown",
   "metadata": {},
   "source": [
    "## 3. f-Strings\n",
    "Awesomeness - easy to read"
   ]
  },
  {
   "cell_type": "code",
   "execution_count": 4,
   "metadata": {},
   "outputs": [
    {
     "data": {
      "text/plain": [
       "'Hello, Eric Idle. You are 74. You are a comedian. You were a member of Monty Python.'"
      ]
     },
     "execution_count": 4,
     "metadata": {},
     "output_type": "execute_result"
    }
   ],
   "source": [
    "f\"Hello, {first_name} {last_name}. \\\n",
    "You are {age}. \\\n",
    "You are a {profession}. \\\n",
    "You were a member of {affiliation}.\""
   ]
  },
  {
   "cell_type": "markdown",
   "metadata": {},
   "source": [
    "## 4. str.format() with dict and ** unpacking\n",
    "Awesomeness - easy to read for dicts"
   ]
  },
  {
   "cell_type": "code",
   "execution_count": 5,
   "metadata": {},
   "outputs": [
    {
     "data": {
      "text/plain": [
       "'Hello, Eric Idle. You are 74. You are a comedian. You were a member of Monty Python.'"
      ]
     },
     "execution_count": 5,
     "metadata": {},
     "output_type": "execute_result"
    }
   ],
   "source": [
    "comedian = {\n",
    "    \"first_name\": \"Eric\",\n",
    "    \"last_name\": \"Idle\",\n",
    "    \"age\": 74,\n",
    "    \"profession\": \"comedian\",\n",
    "    \"affiliation\": \"Monty Python\"\n",
    "}\n",
    "\n",
    "\"Hello, {first_name} {last_name}. \\\n",
    "You are {age}. \\\n",
    "You are a {profession}. \\\n",
    "You were a member of {affiliation}.\".format(**comedian)"
   ]
  },
  {
   "cell_type": "code",
   "execution_count": null,
   "metadata": {},
   "outputs": [],
   "source": []
  }
 ],
 "metadata": {
  "kernelspec": {
   "display_name": "Python 3",
   "language": "python",
   "name": "python3"
  },
  "language_info": {
   "codemirror_mode": {
    "name": "ipython",
    "version": 3
   },
   "file_extension": ".py",
   "mimetype": "text/x-python",
   "name": "python",
   "nbconvert_exporter": "python",
   "pygments_lexer": "ipython3",
   "version": "3.8.2"
  }
 },
 "nbformat": 4,
 "nbformat_minor": 2
}
